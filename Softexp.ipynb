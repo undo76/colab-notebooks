{
  "nbformat": 4,
  "nbformat_minor": 0,
  "metadata": {
    "colab": {
      "name": "Softexp.ipynb",
      "provenance": [],
      "collapsed_sections": [],
      "authorship_tag": "ABX9TyOB6wMSE9QyjW8kPqS8Htm9",
      "include_colab_link": true
    },
    "kernelspec": {
      "name": "python3",
      "display_name": "Python 3"
    },
    "language_info": {
      "name": "python"
    },
    "accelerator": "GPU",
    "widgets": {
      "application/vnd.jupyter.widget-state+json": {
        "1a8567de69484402aff53ff994bd02c5": {
          "model_module": "@jupyter-widgets/controls",
          "model_name": "HBoxModel",
          "state": {
            "_view_name": "HBoxView",
            "_dom_classes": [],
            "_model_name": "HBoxModel",
            "_view_module": "@jupyter-widgets/controls",
            "_model_module_version": "1.5.0",
            "_view_count": null,
            "_view_module_version": "1.5.0",
            "box_style": "",
            "layout": "IPY_MODEL_5cb0458f778e4abf8fb7b44a3d7e668d",
            "_model_module": "@jupyter-widgets/controls",
            "children": [
              "IPY_MODEL_f869de741e7241cda115160c3927cfd9",
              "IPY_MODEL_2526b9862b1b4aabb806bcb7aa243efc"
            ]
          }
        },
        "5cb0458f778e4abf8fb7b44a3d7e668d": {
          "model_module": "@jupyter-widgets/base",
          "model_name": "LayoutModel",
          "state": {
            "_view_name": "LayoutView",
            "grid_template_rows": null,
            "right": null,
            "justify_content": null,
            "_view_module": "@jupyter-widgets/base",
            "overflow": null,
            "_model_module_version": "1.2.0",
            "_view_count": null,
            "flex_flow": null,
            "width": null,
            "min_width": null,
            "border": null,
            "align_items": null,
            "bottom": null,
            "_model_module": "@jupyter-widgets/base",
            "top": null,
            "grid_column": null,
            "overflow_y": null,
            "overflow_x": null,
            "grid_auto_flow": null,
            "grid_area": null,
            "grid_template_columns": null,
            "flex": null,
            "_model_name": "LayoutModel",
            "justify_items": null,
            "grid_row": null,
            "max_height": null,
            "align_content": null,
            "visibility": null,
            "align_self": null,
            "height": null,
            "min_height": null,
            "padding": null,
            "grid_auto_rows": null,
            "grid_gap": null,
            "max_width": null,
            "order": null,
            "_view_module_version": "1.2.0",
            "grid_template_areas": null,
            "object_position": null,
            "object_fit": null,
            "grid_auto_columns": null,
            "margin": null,
            "display": null,
            "left": null
          }
        },
        "f869de741e7241cda115160c3927cfd9": {
          "model_module": "@jupyter-widgets/controls",
          "model_name": "FloatProgressModel",
          "state": {
            "_view_name": "ProgressView",
            "style": "IPY_MODEL_4bd4adb23e584a37a3abf6cc4776c859",
            "_dom_classes": [],
            "description": "",
            "_model_name": "FloatProgressModel",
            "bar_style": "success",
            "max": 26421880,
            "_view_module": "@jupyter-widgets/controls",
            "_model_module_version": "1.5.0",
            "value": 26421880,
            "_view_count": null,
            "_view_module_version": "1.5.0",
            "orientation": "horizontal",
            "min": 0,
            "description_tooltip": null,
            "_model_module": "@jupyter-widgets/controls",
            "layout": "IPY_MODEL_eb1e7346adfe4deba6e123c22cd48ba6"
          }
        },
        "2526b9862b1b4aabb806bcb7aa243efc": {
          "model_module": "@jupyter-widgets/controls",
          "model_name": "HTMLModel",
          "state": {
            "_view_name": "HTMLView",
            "style": "IPY_MODEL_8006ee560fc044c7a6a2cf022cf52371",
            "_dom_classes": [],
            "description": "",
            "_model_name": "HTMLModel",
            "placeholder": "​",
            "_view_module": "@jupyter-widgets/controls",
            "_model_module_version": "1.5.0",
            "value": " 26422272/? [00:05&lt;00:00, 5219964.26it/s]",
            "_view_count": null,
            "_view_module_version": "1.5.0",
            "description_tooltip": null,
            "_model_module": "@jupyter-widgets/controls",
            "layout": "IPY_MODEL_b3d71e9023494c5db3f73a71e3d8c1a2"
          }
        },
        "4bd4adb23e584a37a3abf6cc4776c859": {
          "model_module": "@jupyter-widgets/controls",
          "model_name": "ProgressStyleModel",
          "state": {
            "_view_name": "StyleView",
            "_model_name": "ProgressStyleModel",
            "description_width": "initial",
            "_view_module": "@jupyter-widgets/base",
            "_model_module_version": "1.5.0",
            "_view_count": null,
            "_view_module_version": "1.2.0",
            "bar_color": null,
            "_model_module": "@jupyter-widgets/controls"
          }
        },
        "eb1e7346adfe4deba6e123c22cd48ba6": {
          "model_module": "@jupyter-widgets/base",
          "model_name": "LayoutModel",
          "state": {
            "_view_name": "LayoutView",
            "grid_template_rows": null,
            "right": null,
            "justify_content": null,
            "_view_module": "@jupyter-widgets/base",
            "overflow": null,
            "_model_module_version": "1.2.0",
            "_view_count": null,
            "flex_flow": null,
            "width": null,
            "min_width": null,
            "border": null,
            "align_items": null,
            "bottom": null,
            "_model_module": "@jupyter-widgets/base",
            "top": null,
            "grid_column": null,
            "overflow_y": null,
            "overflow_x": null,
            "grid_auto_flow": null,
            "grid_area": null,
            "grid_template_columns": null,
            "flex": null,
            "_model_name": "LayoutModel",
            "justify_items": null,
            "grid_row": null,
            "max_height": null,
            "align_content": null,
            "visibility": null,
            "align_self": null,
            "height": null,
            "min_height": null,
            "padding": null,
            "grid_auto_rows": null,
            "grid_gap": null,
            "max_width": null,
            "order": null,
            "_view_module_version": "1.2.0",
            "grid_template_areas": null,
            "object_position": null,
            "object_fit": null,
            "grid_auto_columns": null,
            "margin": null,
            "display": null,
            "left": null
          }
        },
        "8006ee560fc044c7a6a2cf022cf52371": {
          "model_module": "@jupyter-widgets/controls",
          "model_name": "DescriptionStyleModel",
          "state": {
            "_view_name": "StyleView",
            "_model_name": "DescriptionStyleModel",
            "description_width": "",
            "_view_module": "@jupyter-widgets/base",
            "_model_module_version": "1.5.0",
            "_view_count": null,
            "_view_module_version": "1.2.0",
            "_model_module": "@jupyter-widgets/controls"
          }
        },
        "b3d71e9023494c5db3f73a71e3d8c1a2": {
          "model_module": "@jupyter-widgets/base",
          "model_name": "LayoutModel",
          "state": {
            "_view_name": "LayoutView",
            "grid_template_rows": null,
            "right": null,
            "justify_content": null,
            "_view_module": "@jupyter-widgets/base",
            "overflow": null,
            "_model_module_version": "1.2.0",
            "_view_count": null,
            "flex_flow": null,
            "width": null,
            "min_width": null,
            "border": null,
            "align_items": null,
            "bottom": null,
            "_model_module": "@jupyter-widgets/base",
            "top": null,
            "grid_column": null,
            "overflow_y": null,
            "overflow_x": null,
            "grid_auto_flow": null,
            "grid_area": null,
            "grid_template_columns": null,
            "flex": null,
            "_model_name": "LayoutModel",
            "justify_items": null,
            "grid_row": null,
            "max_height": null,
            "align_content": null,
            "visibility": null,
            "align_self": null,
            "height": null,
            "min_height": null,
            "padding": null,
            "grid_auto_rows": null,
            "grid_gap": null,
            "max_width": null,
            "order": null,
            "_view_module_version": "1.2.0",
            "grid_template_areas": null,
            "object_position": null,
            "object_fit": null,
            "grid_auto_columns": null,
            "margin": null,
            "display": null,
            "left": null
          }
        },
        "3f53bca0ed3043bfaf35e44b5a5c20c8": {
          "model_module": "@jupyter-widgets/controls",
          "model_name": "HBoxModel",
          "state": {
            "_view_name": "HBoxView",
            "_dom_classes": [],
            "_model_name": "HBoxModel",
            "_view_module": "@jupyter-widgets/controls",
            "_model_module_version": "1.5.0",
            "_view_count": null,
            "_view_module_version": "1.5.0",
            "box_style": "",
            "layout": "IPY_MODEL_27f7bc54976848bbb4dfe547f4527aa2",
            "_model_module": "@jupyter-widgets/controls",
            "children": [
              "IPY_MODEL_e8a7a93d39b44c0d848232fd7a8decb1",
              "IPY_MODEL_f88d15f5fe484d63a8b225cf32f8cdb0"
            ]
          }
        },
        "27f7bc54976848bbb4dfe547f4527aa2": {
          "model_module": "@jupyter-widgets/base",
          "model_name": "LayoutModel",
          "state": {
            "_view_name": "LayoutView",
            "grid_template_rows": null,
            "right": null,
            "justify_content": null,
            "_view_module": "@jupyter-widgets/base",
            "overflow": null,
            "_model_module_version": "1.2.0",
            "_view_count": null,
            "flex_flow": null,
            "width": null,
            "min_width": null,
            "border": null,
            "align_items": null,
            "bottom": null,
            "_model_module": "@jupyter-widgets/base",
            "top": null,
            "grid_column": null,
            "overflow_y": null,
            "overflow_x": null,
            "grid_auto_flow": null,
            "grid_area": null,
            "grid_template_columns": null,
            "flex": null,
            "_model_name": "LayoutModel",
            "justify_items": null,
            "grid_row": null,
            "max_height": null,
            "align_content": null,
            "visibility": null,
            "align_self": null,
            "height": null,
            "min_height": null,
            "padding": null,
            "grid_auto_rows": null,
            "grid_gap": null,
            "max_width": null,
            "order": null,
            "_view_module_version": "1.2.0",
            "grid_template_areas": null,
            "object_position": null,
            "object_fit": null,
            "grid_auto_columns": null,
            "margin": null,
            "display": null,
            "left": null
          }
        },
        "e8a7a93d39b44c0d848232fd7a8decb1": {
          "model_module": "@jupyter-widgets/controls",
          "model_name": "FloatProgressModel",
          "state": {
            "_view_name": "ProgressView",
            "style": "IPY_MODEL_3e980d53c3ab44a690c62f5776acaaff",
            "_dom_classes": [],
            "description": "",
            "_model_name": "FloatProgressModel",
            "bar_style": "success",
            "max": 29515,
            "_view_module": "@jupyter-widgets/controls",
            "_model_module_version": "1.5.0",
            "value": 29515,
            "_view_count": null,
            "_view_module_version": "1.5.0",
            "orientation": "horizontal",
            "min": 0,
            "description_tooltip": null,
            "_model_module": "@jupyter-widgets/controls",
            "layout": "IPY_MODEL_79d2bbc7e64543569e482cc279abf85c"
          }
        },
        "f88d15f5fe484d63a8b225cf32f8cdb0": {
          "model_module": "@jupyter-widgets/controls",
          "model_name": "HTMLModel",
          "state": {
            "_view_name": "HTMLView",
            "style": "IPY_MODEL_1a6edf8bff3b4db695fa51f3e0f63bab",
            "_dom_classes": [],
            "description": "",
            "_model_name": "HTMLModel",
            "placeholder": "​",
            "_view_module": "@jupyter-widgets/controls",
            "_model_module_version": "1.5.0",
            "value": " 29696/? [00:01&lt;00:00, 15194.31it/s]",
            "_view_count": null,
            "_view_module_version": "1.5.0",
            "description_tooltip": null,
            "_model_module": "@jupyter-widgets/controls",
            "layout": "IPY_MODEL_561b4c0ec77b4392aab09122e69c3bf3"
          }
        },
        "3e980d53c3ab44a690c62f5776acaaff": {
          "model_module": "@jupyter-widgets/controls",
          "model_name": "ProgressStyleModel",
          "state": {
            "_view_name": "StyleView",
            "_model_name": "ProgressStyleModel",
            "description_width": "initial",
            "_view_module": "@jupyter-widgets/base",
            "_model_module_version": "1.5.0",
            "_view_count": null,
            "_view_module_version": "1.2.0",
            "bar_color": null,
            "_model_module": "@jupyter-widgets/controls"
          }
        },
        "79d2bbc7e64543569e482cc279abf85c": {
          "model_module": "@jupyter-widgets/base",
          "model_name": "LayoutModel",
          "state": {
            "_view_name": "LayoutView",
            "grid_template_rows": null,
            "right": null,
            "justify_content": null,
            "_view_module": "@jupyter-widgets/base",
            "overflow": null,
            "_model_module_version": "1.2.0",
            "_view_count": null,
            "flex_flow": null,
            "width": null,
            "min_width": null,
            "border": null,
            "align_items": null,
            "bottom": null,
            "_model_module": "@jupyter-widgets/base",
            "top": null,
            "grid_column": null,
            "overflow_y": null,
            "overflow_x": null,
            "grid_auto_flow": null,
            "grid_area": null,
            "grid_template_columns": null,
            "flex": null,
            "_model_name": "LayoutModel",
            "justify_items": null,
            "grid_row": null,
            "max_height": null,
            "align_content": null,
            "visibility": null,
            "align_self": null,
            "height": null,
            "min_height": null,
            "padding": null,
            "grid_auto_rows": null,
            "grid_gap": null,
            "max_width": null,
            "order": null,
            "_view_module_version": "1.2.0",
            "grid_template_areas": null,
            "object_position": null,
            "object_fit": null,
            "grid_auto_columns": null,
            "margin": null,
            "display": null,
            "left": null
          }
        },
        "1a6edf8bff3b4db695fa51f3e0f63bab": {
          "model_module": "@jupyter-widgets/controls",
          "model_name": "DescriptionStyleModel",
          "state": {
            "_view_name": "StyleView",
            "_model_name": "DescriptionStyleModel",
            "description_width": "",
            "_view_module": "@jupyter-widgets/base",
            "_model_module_version": "1.5.0",
            "_view_count": null,
            "_view_module_version": "1.2.0",
            "_model_module": "@jupyter-widgets/controls"
          }
        },
        "561b4c0ec77b4392aab09122e69c3bf3": {
          "model_module": "@jupyter-widgets/base",
          "model_name": "LayoutModel",
          "state": {
            "_view_name": "LayoutView",
            "grid_template_rows": null,
            "right": null,
            "justify_content": null,
            "_view_module": "@jupyter-widgets/base",
            "overflow": null,
            "_model_module_version": "1.2.0",
            "_view_count": null,
            "flex_flow": null,
            "width": null,
            "min_width": null,
            "border": null,
            "align_items": null,
            "bottom": null,
            "_model_module": "@jupyter-widgets/base",
            "top": null,
            "grid_column": null,
            "overflow_y": null,
            "overflow_x": null,
            "grid_auto_flow": null,
            "grid_area": null,
            "grid_template_columns": null,
            "flex": null,
            "_model_name": "LayoutModel",
            "justify_items": null,
            "grid_row": null,
            "max_height": null,
            "align_content": null,
            "visibility": null,
            "align_self": null,
            "height": null,
            "min_height": null,
            "padding": null,
            "grid_auto_rows": null,
            "grid_gap": null,
            "max_width": null,
            "order": null,
            "_view_module_version": "1.2.0",
            "grid_template_areas": null,
            "object_position": null,
            "object_fit": null,
            "grid_auto_columns": null,
            "margin": null,
            "display": null,
            "left": null
          }
        },
        "7608f859fa6d4789922ba8e66235f5de": {
          "model_module": "@jupyter-widgets/controls",
          "model_name": "HBoxModel",
          "state": {
            "_view_name": "HBoxView",
            "_dom_classes": [],
            "_model_name": "HBoxModel",
            "_view_module": "@jupyter-widgets/controls",
            "_model_module_version": "1.5.0",
            "_view_count": null,
            "_view_module_version": "1.5.0",
            "box_style": "",
            "layout": "IPY_MODEL_556ff075458748fdb7439c873fe2bda7",
            "_model_module": "@jupyter-widgets/controls",
            "children": [
              "IPY_MODEL_98947d78a05b4b16b6914966d7f2c781",
              "IPY_MODEL_db084e8b328e4b89b40178d0d4d11133"
            ]
          }
        },
        "556ff075458748fdb7439c873fe2bda7": {
          "model_module": "@jupyter-widgets/base",
          "model_name": "LayoutModel",
          "state": {
            "_view_name": "LayoutView",
            "grid_template_rows": null,
            "right": null,
            "justify_content": null,
            "_view_module": "@jupyter-widgets/base",
            "overflow": null,
            "_model_module_version": "1.2.0",
            "_view_count": null,
            "flex_flow": null,
            "width": null,
            "min_width": null,
            "border": null,
            "align_items": null,
            "bottom": null,
            "_model_module": "@jupyter-widgets/base",
            "top": null,
            "grid_column": null,
            "overflow_y": null,
            "overflow_x": null,
            "grid_auto_flow": null,
            "grid_area": null,
            "grid_template_columns": null,
            "flex": null,
            "_model_name": "LayoutModel",
            "justify_items": null,
            "grid_row": null,
            "max_height": null,
            "align_content": null,
            "visibility": null,
            "align_self": null,
            "height": null,
            "min_height": null,
            "padding": null,
            "grid_auto_rows": null,
            "grid_gap": null,
            "max_width": null,
            "order": null,
            "_view_module_version": "1.2.0",
            "grid_template_areas": null,
            "object_position": null,
            "object_fit": null,
            "grid_auto_columns": null,
            "margin": null,
            "display": null,
            "left": null
          }
        },
        "98947d78a05b4b16b6914966d7f2c781": {
          "model_module": "@jupyter-widgets/controls",
          "model_name": "FloatProgressModel",
          "state": {
            "_view_name": "ProgressView",
            "style": "IPY_MODEL_eaeff04b4e28480faa49326b504aa98d",
            "_dom_classes": [],
            "description": "",
            "_model_name": "FloatProgressModel",
            "bar_style": "success",
            "max": 4422102,
            "_view_module": "@jupyter-widgets/controls",
            "_model_module_version": "1.5.0",
            "value": 4422102,
            "_view_count": null,
            "_view_module_version": "1.5.0",
            "orientation": "horizontal",
            "min": 0,
            "description_tooltip": null,
            "_model_module": "@jupyter-widgets/controls",
            "layout": "IPY_MODEL_4e2ac0eed3d24c34ba5185b94595814e"
          }
        },
        "db084e8b328e4b89b40178d0d4d11133": {
          "model_module": "@jupyter-widgets/controls",
          "model_name": "HTMLModel",
          "state": {
            "_view_name": "HTMLView",
            "style": "IPY_MODEL_80090dbeb081467ca9a536c153edeaab",
            "_dom_classes": [],
            "description": "",
            "_model_name": "HTMLModel",
            "placeholder": "​",
            "_view_module": "@jupyter-widgets/controls",
            "_model_module_version": "1.5.0",
            "value": " 4422656/? [00:01&lt;00:00, 2977131.37it/s]",
            "_view_count": null,
            "_view_module_version": "1.5.0",
            "description_tooltip": null,
            "_model_module": "@jupyter-widgets/controls",
            "layout": "IPY_MODEL_e1a5359d4d054fa2837a613d7eaa5618"
          }
        },
        "eaeff04b4e28480faa49326b504aa98d": {
          "model_module": "@jupyter-widgets/controls",
          "model_name": "ProgressStyleModel",
          "state": {
            "_view_name": "StyleView",
            "_model_name": "ProgressStyleModel",
            "description_width": "initial",
            "_view_module": "@jupyter-widgets/base",
            "_model_module_version": "1.5.0",
            "_view_count": null,
            "_view_module_version": "1.2.0",
            "bar_color": null,
            "_model_module": "@jupyter-widgets/controls"
          }
        },
        "4e2ac0eed3d24c34ba5185b94595814e": {
          "model_module": "@jupyter-widgets/base",
          "model_name": "LayoutModel",
          "state": {
            "_view_name": "LayoutView",
            "grid_template_rows": null,
            "right": null,
            "justify_content": null,
            "_view_module": "@jupyter-widgets/base",
            "overflow": null,
            "_model_module_version": "1.2.0",
            "_view_count": null,
            "flex_flow": null,
            "width": null,
            "min_width": null,
            "border": null,
            "align_items": null,
            "bottom": null,
            "_model_module": "@jupyter-widgets/base",
            "top": null,
            "grid_column": null,
            "overflow_y": null,
            "overflow_x": null,
            "grid_auto_flow": null,
            "grid_area": null,
            "grid_template_columns": null,
            "flex": null,
            "_model_name": "LayoutModel",
            "justify_items": null,
            "grid_row": null,
            "max_height": null,
            "align_content": null,
            "visibility": null,
            "align_self": null,
            "height": null,
            "min_height": null,
            "padding": null,
            "grid_auto_rows": null,
            "grid_gap": null,
            "max_width": null,
            "order": null,
            "_view_module_version": "1.2.0",
            "grid_template_areas": null,
            "object_position": null,
            "object_fit": null,
            "grid_auto_columns": null,
            "margin": null,
            "display": null,
            "left": null
          }
        },
        "80090dbeb081467ca9a536c153edeaab": {
          "model_module": "@jupyter-widgets/controls",
          "model_name": "DescriptionStyleModel",
          "state": {
            "_view_name": "StyleView",
            "_model_name": "DescriptionStyleModel",
            "description_width": "",
            "_view_module": "@jupyter-widgets/base",
            "_model_module_version": "1.5.0",
            "_view_count": null,
            "_view_module_version": "1.2.0",
            "_model_module": "@jupyter-widgets/controls"
          }
        },
        "e1a5359d4d054fa2837a613d7eaa5618": {
          "model_module": "@jupyter-widgets/base",
          "model_name": "LayoutModel",
          "state": {
            "_view_name": "LayoutView",
            "grid_template_rows": null,
            "right": null,
            "justify_content": null,
            "_view_module": "@jupyter-widgets/base",
            "overflow": null,
            "_model_module_version": "1.2.0",
            "_view_count": null,
            "flex_flow": null,
            "width": null,
            "min_width": null,
            "border": null,
            "align_items": null,
            "bottom": null,
            "_model_module": "@jupyter-widgets/base",
            "top": null,
            "grid_column": null,
            "overflow_y": null,
            "overflow_x": null,
            "grid_auto_flow": null,
            "grid_area": null,
            "grid_template_columns": null,
            "flex": null,
            "_model_name": "LayoutModel",
            "justify_items": null,
            "grid_row": null,
            "max_height": null,
            "align_content": null,
            "visibility": null,
            "align_self": null,
            "height": null,
            "min_height": null,
            "padding": null,
            "grid_auto_rows": null,
            "grid_gap": null,
            "max_width": null,
            "order": null,
            "_view_module_version": "1.2.0",
            "grid_template_areas": null,
            "object_position": null,
            "object_fit": null,
            "grid_auto_columns": null,
            "margin": null,
            "display": null,
            "left": null
          }
        },
        "e2c214f8715940159b52501030a9098e": {
          "model_module": "@jupyter-widgets/controls",
          "model_name": "HBoxModel",
          "state": {
            "_view_name": "HBoxView",
            "_dom_classes": [],
            "_model_name": "HBoxModel",
            "_view_module": "@jupyter-widgets/controls",
            "_model_module_version": "1.5.0",
            "_view_count": null,
            "_view_module_version": "1.5.0",
            "box_style": "",
            "layout": "IPY_MODEL_0c27653f8600459bb4e91df3a25fa94d",
            "_model_module": "@jupyter-widgets/controls",
            "children": [
              "IPY_MODEL_c101668e607a4358b82827cba2faab24",
              "IPY_MODEL_ddd6168f44294c54b2b0a24cf54c73eb"
            ]
          }
        },
        "0c27653f8600459bb4e91df3a25fa94d": {
          "model_module": "@jupyter-widgets/base",
          "model_name": "LayoutModel",
          "state": {
            "_view_name": "LayoutView",
            "grid_template_rows": null,
            "right": null,
            "justify_content": null,
            "_view_module": "@jupyter-widgets/base",
            "overflow": null,
            "_model_module_version": "1.2.0",
            "_view_count": null,
            "flex_flow": null,
            "width": null,
            "min_width": null,
            "border": null,
            "align_items": null,
            "bottom": null,
            "_model_module": "@jupyter-widgets/base",
            "top": null,
            "grid_column": null,
            "overflow_y": null,
            "overflow_x": null,
            "grid_auto_flow": null,
            "grid_area": null,
            "grid_template_columns": null,
            "flex": null,
            "_model_name": "LayoutModel",
            "justify_items": null,
            "grid_row": null,
            "max_height": null,
            "align_content": null,
            "visibility": null,
            "align_self": null,
            "height": null,
            "min_height": null,
            "padding": null,
            "grid_auto_rows": null,
            "grid_gap": null,
            "max_width": null,
            "order": null,
            "_view_module_version": "1.2.0",
            "grid_template_areas": null,
            "object_position": null,
            "object_fit": null,
            "grid_auto_columns": null,
            "margin": null,
            "display": null,
            "left": null
          }
        },
        "c101668e607a4358b82827cba2faab24": {
          "model_module": "@jupyter-widgets/controls",
          "model_name": "FloatProgressModel",
          "state": {
            "_view_name": "ProgressView",
            "style": "IPY_MODEL_0b07fe2bd7d74bfa899be0c0200704d4",
            "_dom_classes": [],
            "description": "",
            "_model_name": "FloatProgressModel",
            "bar_style": "success",
            "max": 5148,
            "_view_module": "@jupyter-widgets/controls",
            "_model_module_version": "1.5.0",
            "value": 5148,
            "_view_count": null,
            "_view_module_version": "1.5.0",
            "orientation": "horizontal",
            "min": 0,
            "description_tooltip": null,
            "_model_module": "@jupyter-widgets/controls",
            "layout": "IPY_MODEL_55bf1794cff542cfb57ddddc0533c65f"
          }
        },
        "ddd6168f44294c54b2b0a24cf54c73eb": {
          "model_module": "@jupyter-widgets/controls",
          "model_name": "HTMLModel",
          "state": {
            "_view_name": "HTMLView",
            "style": "IPY_MODEL_d1bdb813cb1240658422f5f0ce6ff8ca",
            "_dom_classes": [],
            "description": "",
            "_model_name": "HTMLModel",
            "placeholder": "​",
            "_view_module": "@jupyter-widgets/controls",
            "_model_module_version": "1.5.0",
            "value": " 6144/? [00:00&lt;00:00, 21087.22it/s]",
            "_view_count": null,
            "_view_module_version": "1.5.0",
            "description_tooltip": null,
            "_model_module": "@jupyter-widgets/controls",
            "layout": "IPY_MODEL_fa791007a18549bdb2dff59edcb66187"
          }
        },
        "0b07fe2bd7d74bfa899be0c0200704d4": {
          "model_module": "@jupyter-widgets/controls",
          "model_name": "ProgressStyleModel",
          "state": {
            "_view_name": "StyleView",
            "_model_name": "ProgressStyleModel",
            "description_width": "initial",
            "_view_module": "@jupyter-widgets/base",
            "_model_module_version": "1.5.0",
            "_view_count": null,
            "_view_module_version": "1.2.0",
            "bar_color": null,
            "_model_module": "@jupyter-widgets/controls"
          }
        },
        "55bf1794cff542cfb57ddddc0533c65f": {
          "model_module": "@jupyter-widgets/base",
          "model_name": "LayoutModel",
          "state": {
            "_view_name": "LayoutView",
            "grid_template_rows": null,
            "right": null,
            "justify_content": null,
            "_view_module": "@jupyter-widgets/base",
            "overflow": null,
            "_model_module_version": "1.2.0",
            "_view_count": null,
            "flex_flow": null,
            "width": null,
            "min_width": null,
            "border": null,
            "align_items": null,
            "bottom": null,
            "_model_module": "@jupyter-widgets/base",
            "top": null,
            "grid_column": null,
            "overflow_y": null,
            "overflow_x": null,
            "grid_auto_flow": null,
            "grid_area": null,
            "grid_template_columns": null,
            "flex": null,
            "_model_name": "LayoutModel",
            "justify_items": null,
            "grid_row": null,
            "max_height": null,
            "align_content": null,
            "visibility": null,
            "align_self": null,
            "height": null,
            "min_height": null,
            "padding": null,
            "grid_auto_rows": null,
            "grid_gap": null,
            "max_width": null,
            "order": null,
            "_view_module_version": "1.2.0",
            "grid_template_areas": null,
            "object_position": null,
            "object_fit": null,
            "grid_auto_columns": null,
            "margin": null,
            "display": null,
            "left": null
          }
        },
        "d1bdb813cb1240658422f5f0ce6ff8ca": {
          "model_module": "@jupyter-widgets/controls",
          "model_name": "DescriptionStyleModel",
          "state": {
            "_view_name": "StyleView",
            "_model_name": "DescriptionStyleModel",
            "description_width": "",
            "_view_module": "@jupyter-widgets/base",
            "_model_module_version": "1.5.0",
            "_view_count": null,
            "_view_module_version": "1.2.0",
            "_model_module": "@jupyter-widgets/controls"
          }
        },
        "fa791007a18549bdb2dff59edcb66187": {
          "model_module": "@jupyter-widgets/base",
          "model_name": "LayoutModel",
          "state": {
            "_view_name": "LayoutView",
            "grid_template_rows": null,
            "right": null,
            "justify_content": null,
            "_view_module": "@jupyter-widgets/base",
            "overflow": null,
            "_model_module_version": "1.2.0",
            "_view_count": null,
            "flex_flow": null,
            "width": null,
            "min_width": null,
            "border": null,
            "align_items": null,
            "bottom": null,
            "_model_module": "@jupyter-widgets/base",
            "top": null,
            "grid_column": null,
            "overflow_y": null,
            "overflow_x": null,
            "grid_auto_flow": null,
            "grid_area": null,
            "grid_template_columns": null,
            "flex": null,
            "_model_name": "LayoutModel",
            "justify_items": null,
            "grid_row": null,
            "max_height": null,
            "align_content": null,
            "visibility": null,
            "align_self": null,
            "height": null,
            "min_height": null,
            "padding": null,
            "grid_auto_rows": null,
            "grid_gap": null,
            "max_width": null,
            "order": null,
            "_view_module_version": "1.2.0",
            "grid_template_areas": null,
            "object_position": null,
            "object_fit": null,
            "grid_auto_columns": null,
            "margin": null,
            "display": null,
            "left": null
          }
        }
      }
    }
  },
  "cells": [
    {
      "cell_type": "markdown",
      "metadata": {
        "id": "view-in-github",
        "colab_type": "text"
      },
      "source": [
        "<a href=\"https://colab.research.google.com/github/undo76/colab-notebooks/blob/main/Softexp.ipynb\" target=\"_parent\"><img src=\"https://colab.research.google.com/assets/colab-badge.svg\" alt=\"Open In Colab\"/></a>"
      ]
    },
    {
      "cell_type": "code",
      "metadata": {
        "id": "sh6Zfm0OxfjB",
        "colab": {
          "base_uri": "https://localhost:8080/"
        },
        "outputId": "abaa8b8a-dab4-4cf7-8603-add1bc933402"
      },
      "source": [
        "import numpy as np\n",
        "from scipy.stats import multivariate_normal, norm\n",
        "import matplotlib.pyplot as plt\n",
        "import matplotlib\n",
        "import torch\n",
        "from torch import Tensor\n",
        "import torch.nn as nn\n",
        "import torch.nn.functional as F\n",
        "import torch.optim as optim\n",
        "import torchvision\n",
        "from math import ceil\n",
        "import math\n",
        "from sklearn.metrics import accuracy_score\n",
        "\n",
        "plt.style.use('bmh')\n",
        "print(f'Cuda: {torch.cuda.is_available()}')\n",
        "device = torch.device(\"cuda\") if torch.cuda.is_available() else torch.device(\"cpu\")\n"
      ],
      "execution_count": 1,
      "outputs": [
        {
          "output_type": "stream",
          "text": [
            "Cuda: True\n"
          ],
          "name": "stdout"
        }
      ]
    },
    {
      "cell_type": "code",
      "metadata": {
        "colab": {
          "base_uri": "https://localhost:8080/",
          "height": 505,
          "referenced_widgets": [
            "1a8567de69484402aff53ff994bd02c5",
            "5cb0458f778e4abf8fb7b44a3d7e668d",
            "f869de741e7241cda115160c3927cfd9",
            "2526b9862b1b4aabb806bcb7aa243efc",
            "4bd4adb23e584a37a3abf6cc4776c859",
            "eb1e7346adfe4deba6e123c22cd48ba6",
            "8006ee560fc044c7a6a2cf022cf52371",
            "b3d71e9023494c5db3f73a71e3d8c1a2",
            "3f53bca0ed3043bfaf35e44b5a5c20c8",
            "27f7bc54976848bbb4dfe547f4527aa2",
            "e8a7a93d39b44c0d848232fd7a8decb1",
            "f88d15f5fe484d63a8b225cf32f8cdb0",
            "3e980d53c3ab44a690c62f5776acaaff",
            "79d2bbc7e64543569e482cc279abf85c",
            "1a6edf8bff3b4db695fa51f3e0f63bab",
            "561b4c0ec77b4392aab09122e69c3bf3",
            "7608f859fa6d4789922ba8e66235f5de",
            "556ff075458748fdb7439c873fe2bda7",
            "98947d78a05b4b16b6914966d7f2c781",
            "db084e8b328e4b89b40178d0d4d11133",
            "eaeff04b4e28480faa49326b504aa98d",
            "4e2ac0eed3d24c34ba5185b94595814e",
            "80090dbeb081467ca9a536c153edeaab",
            "e1a5359d4d054fa2837a613d7eaa5618",
            "e2c214f8715940159b52501030a9098e",
            "0c27653f8600459bb4e91df3a25fa94d",
            "c101668e607a4358b82827cba2faab24",
            "ddd6168f44294c54b2b0a24cf54c73eb",
            "0b07fe2bd7d74bfa899be0c0200704d4",
            "55bf1794cff542cfb57ddddc0533c65f",
            "d1bdb813cb1240658422f5f0ce6ff8ca",
            "fa791007a18549bdb2dff59edcb66187"
          ]
        },
        "id": "vJK7J1Ufxnqk",
        "outputId": "1bfed335-1138-4f35-9ab0-ccb1e95ef927"
      },
      "source": [
        "transform = torchvision.transforms.Compose([\n",
        "    torchvision.transforms.ToTensor(),\n",
        "    torchvision.transforms.Normalize(\n",
        "        mean=0.5,\n",
        "        std=0.2,\n",
        "    ),\n",
        "])\n",
        "train = torchvision.datasets.FashionMNIST('fmnist/', download=True, transform = transform)\n",
        "test = torchvision.datasets.FashionMNIST('fmnist/', train=False, download=True, transform=transform)\n",
        "\n",
        "print(f'Data shape: {train.data.shape}')\n",
        "print(f'Targets shape: {train.targets.shape}')\n",
        "print(f'Target values: {train.targets.unique()}')\n",
        "print(f'Target values: {train.classes}')\n"
      ],
      "execution_count": 2,
      "outputs": [
        {
          "output_type": "stream",
          "text": [
            "Downloading http://fashion-mnist.s3-website.eu-central-1.amazonaws.com/train-images-idx3-ubyte.gz to fmnist/FashionMNIST/raw/train-images-idx3-ubyte.gz\n"
          ],
          "name": "stdout"
        },
        {
          "output_type": "display_data",
          "data": {
            "application/vnd.jupyter.widget-view+json": {
              "model_id": "1a8567de69484402aff53ff994bd02c5",
              "version_minor": 0,
              "version_major": 2
            },
            "text/plain": [
              "HBox(children=(FloatProgress(value=0.0, max=26421880.0), HTML(value='')))"
            ]
          },
          "metadata": {
            "tags": []
          }
        },
        {
          "output_type": "stream",
          "text": [
            "\n",
            "Extracting fmnist/FashionMNIST/raw/train-images-idx3-ubyte.gz to fmnist/FashionMNIST/raw\n",
            "Downloading http://fashion-mnist.s3-website.eu-central-1.amazonaws.com/train-labels-idx1-ubyte.gz to fmnist/FashionMNIST/raw/train-labels-idx1-ubyte.gz\n"
          ],
          "name": "stdout"
        },
        {
          "output_type": "display_data",
          "data": {
            "application/vnd.jupyter.widget-view+json": {
              "model_id": "3f53bca0ed3043bfaf35e44b5a5c20c8",
              "version_minor": 0,
              "version_major": 2
            },
            "text/plain": [
              "HBox(children=(FloatProgress(value=0.0, max=29515.0), HTML(value='')))"
            ]
          },
          "metadata": {
            "tags": []
          }
        },
        {
          "output_type": "stream",
          "text": [
            "\n",
            "Extracting fmnist/FashionMNIST/raw/train-labels-idx1-ubyte.gz to fmnist/FashionMNIST/raw\n",
            "Downloading http://fashion-mnist.s3-website.eu-central-1.amazonaws.com/t10k-images-idx3-ubyte.gz to fmnist/FashionMNIST/raw/t10k-images-idx3-ubyte.gz\n"
          ],
          "name": "stdout"
        },
        {
          "output_type": "display_data",
          "data": {
            "application/vnd.jupyter.widget-view+json": {
              "model_id": "7608f859fa6d4789922ba8e66235f5de",
              "version_minor": 0,
              "version_major": 2
            },
            "text/plain": [
              "HBox(children=(FloatProgress(value=0.0, max=4422102.0), HTML(value='')))"
            ]
          },
          "metadata": {
            "tags": []
          }
        },
        {
          "output_type": "stream",
          "text": [
            "\n",
            "Extracting fmnist/FashionMNIST/raw/t10k-images-idx3-ubyte.gz to fmnist/FashionMNIST/raw\n",
            "Downloading http://fashion-mnist.s3-website.eu-central-1.amazonaws.com/t10k-labels-idx1-ubyte.gz to fmnist/FashionMNIST/raw/t10k-labels-idx1-ubyte.gz\n"
          ],
          "name": "stdout"
        },
        {
          "output_type": "display_data",
          "data": {
            "application/vnd.jupyter.widget-view+json": {
              "model_id": "e2c214f8715940159b52501030a9098e",
              "version_minor": 0,
              "version_major": 2
            },
            "text/plain": [
              "HBox(children=(FloatProgress(value=0.0, max=5148.0), HTML(value='')))"
            ]
          },
          "metadata": {
            "tags": []
          }
        },
        {
          "output_type": "stream",
          "text": [
            "\n",
            "Extracting fmnist/FashionMNIST/raw/t10k-labels-idx1-ubyte.gz to fmnist/FashionMNIST/raw\n",
            "Processing...\n",
            "Done!\n",
            "Data shape: torch.Size([60000, 28, 28])\n",
            "Targets shape: torch.Size([60000])\n",
            "Target values: tensor([0, 1, 2, 3, 4, 5, 6, 7, 8, 9])\n",
            "Target values: ['T-shirt/top', 'Trouser', 'Pullover', 'Dress', 'Coat', 'Sandal', 'Shirt', 'Sneaker', 'Bag', 'Ankle boot']\n"
          ],
          "name": "stdout"
        },
        {
          "output_type": "stream",
          "text": [
            "/usr/local/lib/python3.7/dist-packages/torchvision/datasets/mnist.py:479: UserWarning: The given NumPy array is not writeable, and PyTorch does not support non-writeable tensors. This means you can write to the underlying (supposedly non-writeable) NumPy array using the tensor. You may want to copy the array to protect its data or make it writeable before converting it to a tensor. This type of warning will be suppressed for the rest of this program. (Triggered internally at  /pytorch/torch/csrc/utils/tensor_numpy.cpp:143.)\n",
            "  return torch.from_numpy(parsed.astype(m[2], copy=False)).view(*s)\n"
          ],
          "name": "stderr"
        }
      ]
    },
    {
      "cell_type": "code",
      "metadata": {
        "colab": {
          "base_uri": "https://localhost:8080/",
          "height": 282
        },
        "id": "fsREXPIk5tCl",
        "outputId": "330aff3d-f446-41ce-f9e6-7af9fa36f3ed"
      },
      "source": [
        "def show_image(idxs, dataset=train, ncols=4):  \n",
        "  figure, axis = plt.subplots(ncols=min(ncols, len(idxs)), nrows=ceil(len(idxs)/ncols), sharex=True, sharey=True, squeeze=False)\n",
        "  # figure.set_size_inches(10, 10)\n",
        "  for i, idx in enumerate(idxs):\n",
        "    axis[i//ncols, i%ncols].imshow(dataset.data[idx], cmap='gray_r')\n",
        "    axis[i//ncols, i%ncols].set_title(dataset.classes[test.targets[idx]])\n",
        "  plt.tight_layout()\n",
        "\n",
        "show_image([3, 4, 17, 21, 1, 56, 34, 33], dataset=test)"
      ],
      "execution_count": 4,
      "outputs": [
        {
          "output_type": "display_data",
          "data": {
            "image/png": "[encoded data removed]",
            "text/plain": [
              "<Figure size 432x288 with 8 Axes>"
            ]
          },
          "metadata": {
            "tags": [],
            "needs_background": "light"
          }
        }
      ]
    },
    {
      "cell_type": "code",
      "metadata": {
        "id": "JuzB2gx42DJy"
      },
      "source": [
        "class SoftExp(nn.Module):\n",
        "    num_features: int\n",
        "    alpha: Tensor\n",
        "\n",
        "    def __init__(self, num_features, eps=1e-4):\n",
        "      super().__init__()\n",
        "\n",
        "      self.num_features = num_features\n",
        "      self.eps=eps\n",
        "      self.alpha = torch.nn.Parameter(torch.Tensor(self.num_features))\n",
        "      self.reset_parameters()\n",
        "\n",
        "    def reset_parameters(self):\n",
        "      torch.nn.init.normal_(self.alpha, 0., 0.01)\n",
        "\n",
        "    def forward(self, x):\n",
        "      alpha = self.alpha\n",
        "      m = 3\n",
        "      x_m = (-1 + m - m * (alpha ** 2)) / (m * alpha + torch.sign(alpha) * self.eps)\n",
        "      y_m = -torch.log(torch.clamp(1. - alpha * (x_m + alpha), min=self.eps)) / (alpha + torch.sign(alpha) * self.eps)\n",
        "      lg = -torch.log(torch.clamp(1. - alpha * (x + alpha), min=self.eps)) / (alpha + torch.sign(alpha) * self.eps)\n",
        "\n",
        "      ret = torch.where(self.alpha >= 0., \n",
        "                        (torch.exp(alpha * x) - 1) / (alpha + torch.sign(alpha) * self.eps) + alpha,\n",
        "                        torch.where(x < x_m, \n",
        "                                    m * (x - x_m) + y_m, \n",
        "                                    lg\n",
        "                                    )\n",
        "                        )\n",
        "      # print(self.alpha.abs().min().item(), self.alpha.max().item(), self.alpha.min().item(), x.max().item(), x.min().item(), ret.abs().max().item())\n",
        "      return ret"
      ],
      "execution_count": 5,
      "outputs": []
    },
    {
      "cell_type": "code",
      "metadata": {
        "colab": {
          "base_uri": "https://localhost:8080/"
        },
        "id": "4gxBxOvm1vza",
        "outputId": "91a392b6-ac9f-49f5-b178-0bdc948e8dab"
      },
      "source": [
        "class SimpleNetwork(nn.Module):\n",
        "    def __init__(self):\n",
        "        super().__init__()\n",
        "\n",
        "        # self.softexp_1 = SoftExp(28 * 28)\n",
        "        self.hidden_1 = nn.LazyLinear(128)\n",
        "        # self.softexp_2 = SoftExp(128)\n",
        "        self.bn1 = nn.BatchNorm1d(128)\n",
        "        self.hidden_2 = nn.Linear(128, 64)\n",
        "        # self.softexp_3 = SoftExp(64)\n",
        "        self.bn2 = nn.BatchNorm1d(64)\n",
        "        self.output = nn.LazyLinear(10)\n",
        "\n",
        "    def forward(self,x):\n",
        "        # x = self.softexp_1(x)\n",
        "        x = self.hidden_1(x)\n",
        "        x = self.bn1(x)\n",
        "        x = F.relu(x)\n",
        "        # x = self.softexp_2(x)\n",
        "        x = self.hidden_2(x)\n",
        "        x = self.bn2(x)\n",
        "        x = F.relu(x)\n",
        "        # x = self.softexp_3(x)\n",
        "        y_pred = self.output(x)\n",
        "        return y_pred\n",
        "\n",
        "# Initialize the network\n",
        "model = SimpleNetwork().to(device);\n",
        "\n",
        "optimizer = optim.Adam(model.parameters(), lr=0.001)\n",
        "criterion = nn.CrossEntropyLoss()\n",
        "l1_penalty = torch.nn.L1Loss(size_average=False)\n",
        "\n",
        "def train_model(model, dataset, optimizer, criterion, n_epochs=20):\n",
        "  train, valid = torch.utils.data.random_split(dataset, [55000, 5000])\n",
        "  trainloader = torch.utils.data.DataLoader(train, batch_size=128, shuffle=True)\n",
        "  for epoch in range(n_epochs):\n",
        "    model.train()\n",
        "    for batch, (images, labels) in enumerate(trainloader):\n",
        "      optimizer.zero_grad()\n",
        "      output = model(images.view(images.shape[0],-1).to(device))\n",
        "      loss = criterion(output, labels.to(device))\n",
        "\n",
        "      L1_reg = torch.tensor(0., requires_grad=True)\n",
        "      for name, param in model.named_parameters():\n",
        "        if 'alpha' in name:\n",
        "          L1_reg = L1_reg + torch.norm(param, 1)\n",
        "      loss = loss + 1e-4 * L1_reg\n",
        "\n",
        "      # with torch.autograd.detect_anomaly():\n",
        "      loss.backward() \n",
        "      #torch.nn.utils.clip_grad_norm_(model.parameters(), .1)\n",
        "      optimizer.step()\n",
        "    \n",
        "    # Validate\n",
        "    with torch.no_grad():\n",
        "      model.eval()\n",
        "      accuracy = []\n",
        "      validloader = torch.utils.data.DataLoader(valid, batch_size=256, shuffle=True)\n",
        "      for batch, (images, labels) in enumerate(validloader):\n",
        "        output = model(images.view(images.shape[0],-1).to(device))\n",
        "        y_pred = torch.distributions.Categorical(logits=output).probs.argmax(1).detach().cpu().numpy()\n",
        "        accuracy.append(accuracy_score(labels.numpy(), y_pred))\n",
        "\n",
        "    print(f\"Epoch {epoch} - Training: {loss:2f}\\t Validation: {np.mean(accuracy):.2f}\")\n",
        "    \n",
        "train_model(model, train, optimizer, criterion)"
      ],
      "execution_count": 10,
      "outputs": [
        {
          "output_type": "stream",
          "text": [
            "/usr/local/lib/python3.7/dist-packages/torch/nn/modules/lazy.py:175: UserWarning: Lazy modules are a new feature under heavy development so changes to the API or functionality can happen at any moment.\n",
            "  warnings.warn('Lazy modules are a new feature under heavy development '\n",
            "/usr/local/lib/python3.7/dist-packages/torch/nn/_reduction.py:42: UserWarning: size_average and reduce args will be deprecated, please use reduction='sum' instead.\n",
            "  warnings.warn(warning.format(ret))\n"
          ],
          "name": "stderr"
        },
        {
          "output_type": "stream",
          "text": [
            "Epoch 0 - Training: 0.403618\t Validation: 0.86\n",
            "Epoch 1 - Training: 0.281906\t Validation: 0.87\n",
            "Epoch 2 - Training: 0.256899\t Validation: 0.87\n",
            "Epoch 3 - Training: 0.206570\t Validation: 0.88\n",
            "Epoch 4 - Training: 0.246878\t Validation: 0.88\n",
            "Epoch 5 - Training: 0.156130\t Validation: 0.89\n",
            "Epoch 6 - Training: 0.209282\t Validation: 0.89\n",
            "Epoch 7 - Training: 0.266554\t Validation: 0.89\n",
            "Epoch 8 - Training: 0.212391\t Validation: 0.89\n",
            "Epoch 9 - Training: 0.152552\t Validation: 0.89\n",
            "Epoch 10 - Training: 0.185178\t Validation: 0.88\n",
            "Epoch 11 - Training: 0.101808\t Validation: 0.89\n",
            "Epoch 12 - Training: 0.193600\t Validation: 0.88\n",
            "Epoch 13 - Training: 0.087579\t Validation: 0.89\n",
            "Epoch 14 - Training: 0.188831\t Validation: 0.88\n",
            "Epoch 15 - Training: 0.131601\t Validation: 0.89\n",
            "Epoch 16 - Training: 0.191988\t Validation: 0.89\n",
            "Epoch 17 - Training: 0.063594\t Validation: 0.89\n",
            "Epoch 18 - Training: 0.152827\t Validation: 0.89\n",
            "Epoch 19 - Training: 0.207481\t Validation: 0.88\n"
          ],
          "name": "stdout"
        }
      ]
    },
    {
      "cell_type": "code",
      "metadata": {
        "colab": {
          "base_uri": "https://localhost:8080/",
          "height": 351
        },
        "id": "GG0yZHKVWuba",
        "outputId": "6b8dc200-251a-4a60-c36c-3bb1625f26fb"
      },
      "source": [
        "# print(list(model.parameters()))\n",
        "p1 = model.softexp_1.alpha.detach().cpu().numpy()\n",
        "p2 = model.softexp_2.alpha.detach().cpu().numpy()\n",
        "p3 = model.softexp_3.alpha.detach().cpu().numpy()\n",
        "\n",
        "fig, (ax1, ax2, ax3) = plt.subplots(ncols=3, sharex=True, sharey=True)\n",
        "fig.set_figwidth(10)\n",
        "ax1.hist(p1, density=True)\n",
        "ax2.hist(p2, density=True)\n",
        "ax3.hist(p3, density=True)\n",
        "\n",
        "plt.title(\"alpha\")\n",
        "plt.show()\n"
      ],
      "execution_count": 11,
      "outputs": [
        {
          "output_type": "error",
          "ename": "AttributeError",
          "evalue": "ignored",
          "traceback": [
            "\u001b[0;31m---------------------------------------------------------------------------\u001b[0m",
            "\u001b[0;31mAttributeError\u001b[0m                            Traceback (most recent call last)",
            "\u001b[0;32m<ipython-input-11-e902cd39026d>\u001b[0m in \u001b[0;36m<module>\u001b[0;34m()\u001b[0m\n\u001b[1;32m      1\u001b[0m \u001b[0;31m# print(list(model.parameters()))\u001b[0m\u001b[0;34m\u001b[0m\u001b[0;34m\u001b[0m\u001b[0;34m\u001b[0m\u001b[0m\n\u001b[0;32m----> 2\u001b[0;31m \u001b[0mp1\u001b[0m \u001b[0;34m=\u001b[0m \u001b[0mmodel\u001b[0m\u001b[0;34m.\u001b[0m\u001b[0msoftexp_1\u001b[0m\u001b[0;34m.\u001b[0m\u001b[0malpha\u001b[0m\u001b[0;34m.\u001b[0m\u001b[0mdetach\u001b[0m\u001b[0;34m(\u001b[0m\u001b[0;34m)\u001b[0m\u001b[0;34m.\u001b[0m\u001b[0mcpu\u001b[0m\u001b[0;34m(\u001b[0m\u001b[0;34m)\u001b[0m\u001b[0;34m.\u001b[0m\u001b[0mnumpy\u001b[0m\u001b[0;34m(\u001b[0m\u001b[0;34m)\u001b[0m\u001b[0;34m\u001b[0m\u001b[0;34m\u001b[0m\u001b[0m\n\u001b[0m\u001b[1;32m      3\u001b[0m \u001b[0mp2\u001b[0m \u001b[0;34m=\u001b[0m \u001b[0mmodel\u001b[0m\u001b[0;34m.\u001b[0m\u001b[0msoftexp_2\u001b[0m\u001b[0;34m.\u001b[0m\u001b[0malpha\u001b[0m\u001b[0;34m.\u001b[0m\u001b[0mdetach\u001b[0m\u001b[0;34m(\u001b[0m\u001b[0;34m)\u001b[0m\u001b[0;34m.\u001b[0m\u001b[0mcpu\u001b[0m\u001b[0;34m(\u001b[0m\u001b[0;34m)\u001b[0m\u001b[0;34m.\u001b[0m\u001b[0mnumpy\u001b[0m\u001b[0;34m(\u001b[0m\u001b[0;34m)\u001b[0m\u001b[0;34m\u001b[0m\u001b[0;34m\u001b[0m\u001b[0m\n\u001b[1;32m      4\u001b[0m \u001b[0mp3\u001b[0m \u001b[0;34m=\u001b[0m \u001b[0mmodel\u001b[0m\u001b[0;34m.\u001b[0m\u001b[0msoftexp_3\u001b[0m\u001b[0;34m.\u001b[0m\u001b[0malpha\u001b[0m\u001b[0;34m.\u001b[0m\u001b[0mdetach\u001b[0m\u001b[0;34m(\u001b[0m\u001b[0;34m)\u001b[0m\u001b[0;34m.\u001b[0m\u001b[0mcpu\u001b[0m\u001b[0;34m(\u001b[0m\u001b[0;34m)\u001b[0m\u001b[0;34m.\u001b[0m\u001b[0mnumpy\u001b[0m\u001b[0;34m(\u001b[0m\u001b[0;34m)\u001b[0m\u001b[0;34m\u001b[0m\u001b[0;34m\u001b[0m\u001b[0m\n\u001b[1;32m      5\u001b[0m \u001b[0;34m\u001b[0m\u001b[0m\n",
            "\u001b[0;32m/usr/local/lib/python3.7/dist-packages/torch/nn/modules/module.py\u001b[0m in \u001b[0;36m__getattr__\u001b[0;34m(self, name)\u001b[0m\n\u001b[1;32m    946\u001b[0m                 \u001b[0;32mreturn\u001b[0m \u001b[0mmodules\u001b[0m\u001b[0;34m[\u001b[0m\u001b[0mname\u001b[0m\u001b[0;34m]\u001b[0m\u001b[0;34m\u001b[0m\u001b[0;34m\u001b[0m\u001b[0m\n\u001b[1;32m    947\u001b[0m         raise AttributeError(\"'{}' object has no attribute '{}'\".format(\n\u001b[0;32m--> 948\u001b[0;31m             type(self).__name__, name))\n\u001b[0m\u001b[1;32m    949\u001b[0m \u001b[0;34m\u001b[0m\u001b[0m\n\u001b[1;32m    950\u001b[0m     \u001b[0;32mdef\u001b[0m \u001b[0m__setattr__\u001b[0m\u001b[0;34m(\u001b[0m\u001b[0mself\u001b[0m\u001b[0;34m,\u001b[0m \u001b[0mname\u001b[0m\u001b[0;34m:\u001b[0m \u001b[0mstr\u001b[0m\u001b[0;34m,\u001b[0m \u001b[0mvalue\u001b[0m\u001b[0;34m:\u001b[0m \u001b[0mUnion\u001b[0m\u001b[0;34m[\u001b[0m\u001b[0mTensor\u001b[0m\u001b[0;34m,\u001b[0m \u001b[0;34m'Module'\u001b[0m\u001b[0;34m]\u001b[0m\u001b[0;34m)\u001b[0m \u001b[0;34m->\u001b[0m \u001b[0;32mNone\u001b[0m\u001b[0;34m:\u001b[0m\u001b[0;34m\u001b[0m\u001b[0;34m\u001b[0m\u001b[0m\n",
            "\u001b[0;31mAttributeError\u001b[0m: 'SimpleNetwork' object has no attribute 'softexp_1'"
          ]
        }
      ]
    },
    {
      "cell_type": "code",
      "metadata": {
        "colab": {
          "base_uri": "https://localhost:8080/"
        },
        "id": "d_n4IA-FGtm2",
        "outputId": "e59196fb-cd8b-4bc1-8134-35a67be4fd5b"
      },
      "source": [
        "with torch.no_grad():\n",
        "  model.eval()\n",
        "  accuracy = []\n",
        "  testloader = torch.utils.data.DataLoader(test, batch_size=256, shuffle=True)\n",
        "  for batch, (images, labels) in enumerate(testloader):\n",
        "    output = model(images.view(images.shape[0],-1).to(device))\n",
        "    y_pred = torch.distributions.Categorical(logits=output).probs.argmax(1).detach().cpu().numpy()\n",
        "    accuracy.append(accuracy_score(labels.numpy(), y_pred))\n",
        "\n",
        "print(f\"Accuracy (test) = {np.mean(accuracy):.2f} +/- {np.std(accuracy):.2f}\")"
      ],
      "execution_count": 12,
      "outputs": [
        {
          "output_type": "stream",
          "text": [
            "Accuracy (test) = 0.89 +/- 0.02\n"
          ],
          "name": "stdout"
        }
      ]
    },
    {
      "cell_type": "code",
      "metadata": {
        "id": "rZ_eP_52kibX"
      },
      "source": [
        "def softexp(x, alpha, eps=1e-6):\n",
        "  return np.where(alpha == 0, \n",
        "                  x,\n",
        "                  np.where(alpha > 0, \n",
        "                          (np.exp(alpha * x) - 1) / (alpha + eps) + alpha,\n",
        "                          - np.log(1 - alpha * (x + alpha)) / (alpha - eps)\n",
        "                          )\n",
        "                  )\n",
        "\n",
        "def d_softexp(x, alpha):\n",
        "  return np.where(alpha == 0, 1, \n",
        "                  np.where(alpha < 0, 1/(1 - alpha * (alpha + x)),\n",
        "                          np.exp(alpha * x)))\n",
        "  \n",
        "def tangent_at(x0):\n",
        "  \"\"\" y = m * (x - x0) + y0 \"\"\"\n",
        "  return lambda x, alpha: d_softexp(x0, alpha) * (x - x0) + softexp(x0, alpha)\n",
        "\n",
        "def leaky_softexp(x, alpha, eps=1e-6):\n",
        "    m = 10\n",
        "    x_m = (-1 + m - m * alpha ** 2)/(m * alpha)\n",
        "    y_m = softexp(x_m, alpha)\n",
        "    return np.where(alpha == 0, x,\n",
        "                    np.where(alpha > 0, \n",
        "                            (np.exp(alpha * x) - 1) / (alpha + eps) + alpha,\n",
        "                            np.where(x > x_m,\n",
        "                                     - np.log(1 - alpha * (x + alpha)) / (alpha - eps),\n",
        "                                     m * (x - x_m) + y_m\n",
        "                            )\n",
        "                    )\n",
        "            )\n"
      ],
      "execution_count": 447,
      "outputs": []
    },
    {
      "cell_type": "code",
      "metadata": {
        "colab": {
          "base_uri": "https://localhost:8080/",
          "height": 605
        },
        "id": "Dikvff5ZX6jZ",
        "outputId": "b70c5bd7-f052-448c-f3e0-cb0eea323501"
      },
      "source": [
        "def plot_function(f, alphas=np.linspace(-1., 1., 11), xs = np.linspace(-10, 10, 1000)):\n",
        "  plt.figure(1, figsize=(5,5))\n",
        "  for alpha in alphas:\n",
        "    plt.plot(xs, f(xs, alpha=alpha), label=f'{alpha:.1f}')\n",
        "  plt.title(f.__name__)\n",
        "  plt.ylim(-10, 10)\n",
        "  plt.xlim(-10,10)\n",
        "  plt.legend()\n",
        "\n",
        "with np.warnings.catch_warnings():\n",
        "  np.warnings.filterwarnings('ignore', r'invalid value encountered in log')\n",
        "  \n",
        "  plt.figure(1, figsize=(20,5))\n",
        "  plt.subplot(141)\n",
        "  plot_function(softexp)\n",
        "\n",
        "  plt.subplot(142)\n",
        "  plot_function(d_softexp, alphas=np.linspace(-1, 0, 5))\n",
        "\n",
        "  plt.subplot(143)\n",
        "  plot_function(softexp, alphas=[0.5])\n",
        "  plot_function(tangent_at(3), alphas=[0.5])\n",
        "  plot_function(tangent_at(-2), alphas=[0.5])\n",
        "\n",
        "  plt.subplot(144)\n",
        "  plot_function(leaky_softexp)"
      ],
      "execution_count": null,
      "outputs": [
        {
          "output_type": "stream",
          "text": [
            "/usr/local/lib/python3.7/dist-packages/ipykernel_launcher.py:29: RuntimeWarning: invalid value encountered in log\n",
            "/usr/local/lib/python3.7/dist-packages/ipykernel_launcher.py:29: RuntimeWarning: invalid value encountered in log\n",
            "/usr/local/lib/python3.7/dist-packages/ipykernel_launcher.py:29: RuntimeWarning: invalid value encountered in log\n",
            "/usr/local/lib/python3.7/dist-packages/ipykernel_launcher.py:29: RuntimeWarning: invalid value encountered in log\n",
            "/usr/local/lib/python3.7/dist-packages/ipykernel_launcher.py:29: RuntimeWarning: invalid value encountered in log\n",
            "/usr/local/lib/python3.7/dist-packages/ipykernel_launcher.py:23: RuntimeWarning: divide by zero encountered in double_scalars\n",
            "/usr/local/lib/python3.7/dist-packages/ipykernel_launcher.py:7: RuntimeWarning: invalid value encountered in double_scalars\n",
            "  import sys\n",
            "/usr/local/lib/python3.7/dist-packages/ipykernel_launcher.py:8: RuntimeWarning: invalid value encountered in double_scalars\n",
            "  \n",
            "/usr/local/lib/python3.7/dist-packages/ipykernel_launcher.py:30: RuntimeWarning: invalid value encountered in add\n",
            "/usr/local/lib/python3.7/dist-packages/ipykernel_launcher.py:29: RuntimeWarning: invalid value encountered in log\n",
            "/usr/local/lib/python3.7/dist-packages/ipykernel_launcher.py:29: RuntimeWarning: invalid value encountered in log\n",
            "/usr/local/lib/python3.7/dist-packages/ipykernel_launcher.py:29: RuntimeWarning: invalid value encountered in log\n",
            "/usr/local/lib/python3.7/dist-packages/ipykernel_launcher.py:29: RuntimeWarning: invalid value encountered in log\n",
            "/usr/local/lib/python3.7/dist-packages/ipykernel_launcher.py:29: RuntimeWarning: invalid value encountered in log\n"
          ],
          "name": "stderr"
        },
        {
          "output_type": "display_data",
          "data": {
            "image/png": "[encoded data removed]",
            "text/plain": [
              "<Figure size 1440x360 with 4 Axes>"
            ]
          },
          "metadata": {
            "tags": [],
            "needs_background": "light"
          }
        }
      ]
    },
    {
      "cell_type": "code",
      "metadata": {
        "id": "ElZhLtQploen"
      },
      "source": [
        ""
      ],
      "execution_count": null,
      "outputs": []
    }
  ]
}